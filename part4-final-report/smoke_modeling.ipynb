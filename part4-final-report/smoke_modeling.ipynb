{
 "cells": [
  {
   "cell_type": "markdown",
   "id": "b3069cb7",
   "metadata": {},
   "source": [
    "# Data Modeling\n",
    "\n",
    "In this notebook, I'm going to use the smoke estimator and AQI data from Part 1, with the crime data described in Part 2, to build models and see how they perform."
   ]
  },
  {
   "cell_type": "markdown",
   "id": "58bd06b7",
   "metadata": {},
   "source": [
    "## Preliminary and Modules"
   ]
  },
  {
   "cell_type": "code",
   "execution_count": 1,
   "id": "7c6ac45b",
   "metadata": {},
   "outputs": [
    {
     "name": "stderr",
     "output_type": "stream",
     "text": [
      "/usr/local/anaconda3/lib/python3.9/site-packages/scipy/__init__.py:155: UserWarning: A NumPy version >=1.18.5 and <1.25.0 is required for this version of SciPy (detected version 1.26.1\n",
      "  warnings.warn(f\"A NumPy version >={np_minversion} and <{np_maxversion}\"\n"
     ]
    }
   ],
   "source": [
    "import numpy as np\n",
    "import pandas as pd\n",
    "import seaborn as sns\n",
    "import matplotlib.pyplot as plt\n",
    "\n",
    "from sklearn.model_selection import train_test_split\n",
    "from sklearn.linear_model import LinearRegression\n",
    "from sklearn.ensemble import RandomForestRegressor\n",
    "from sklearn.metrics import mean_squared_error, r2_score"
   ]
  },
  {
   "cell_type": "markdown",
   "id": "60038064",
   "metadata": {},
   "source": [
    "## Import Data\n",
    "### Crime Data"
   ]
  },
  {
   "cell_type": "code",
   "execution_count": 2,
   "id": "cd620531",
   "metadata": {
    "scrolled": true
   },
   "outputs": [
    {
     "data": {
      "text/html": [
       "<div>\n",
       "<style scoped>\n",
       "    .dataframe tbody tr th:only-of-type {\n",
       "        vertical-align: middle;\n",
       "    }\n",
       "\n",
       "    .dataframe tbody tr th {\n",
       "        vertical-align: top;\n",
       "    }\n",
       "\n",
       "    .dataframe thead th {\n",
       "        text-align: right;\n",
       "    }\n",
       "</style>\n",
       "<table border=\"1\" class=\"dataframe\">\n",
       "  <thead>\n",
       "    <tr style=\"text-align: right;\">\n",
       "      <th></th>\n",
       "      <th>data_year</th>\n",
       "      <th>offense_count</th>\n",
       "    </tr>\n",
       "  </thead>\n",
       "  <tbody>\n",
       "    <tr>\n",
       "      <th>0</th>\n",
       "      <td>2000</td>\n",
       "      <td>44</td>\n",
       "    </tr>\n",
       "    <tr>\n",
       "      <th>1</th>\n",
       "      <td>2001</td>\n",
       "      <td>39</td>\n",
       "    </tr>\n",
       "    <tr>\n",
       "      <th>2</th>\n",
       "      <td>2002</td>\n",
       "      <td>33</td>\n",
       "    </tr>\n",
       "    <tr>\n",
       "      <th>3</th>\n",
       "      <td>2003</td>\n",
       "      <td>42</td>\n",
       "    </tr>\n",
       "    <tr>\n",
       "      <th>4</th>\n",
       "      <td>2004</td>\n",
       "      <td>35</td>\n",
       "    </tr>\n",
       "  </tbody>\n",
       "</table>\n",
       "</div>"
      ],
      "text/plain": [
       "   data_year  offense_count\n",
       "0       2000             44\n",
       "1       2001             39\n",
       "2       2002             33\n",
       "3       2003             42\n",
       "4       2004             35"
      ]
     },
     "execution_count": 2,
     "metadata": {},
     "output_type": "execute_result"
    }
   ],
   "source": [
    "df_crime = pd.read_csv(\"nibrs_crime_data.csv\")\n",
    "df_crime_year = df_crime.groupby('data_year').sum('offense_count').reset_index()\n",
    "df_crime_year.head()"
   ]
  },
  {
   "cell_type": "markdown",
   "id": "82e4cc51",
   "metadata": {},
   "source": [
    "### Population"
   ]
  },
  {
   "cell_type": "code",
   "execution_count": 3,
   "id": "5043c4da",
   "metadata": {},
   "outputs": [
    {
     "data": {
      "text/html": [
       "<div>\n",
       "<style scoped>\n",
       "    .dataframe tbody tr th:only-of-type {\n",
       "        vertical-align: middle;\n",
       "    }\n",
       "\n",
       "    .dataframe tbody tr th {\n",
       "        vertical-align: top;\n",
       "    }\n",
       "\n",
       "    .dataframe thead th {\n",
       "        text-align: right;\n",
       "    }\n",
       "</style>\n",
       "<table border=\"1\" class=\"dataframe\">\n",
       "  <thead>\n",
       "    <tr style=\"text-align: right;\">\n",
       "      <th></th>\n",
       "      <th>data_year</th>\n",
       "      <th>population</th>\n",
       "    </tr>\n",
       "  </thead>\n",
       "  <tbody>\n",
       "    <tr>\n",
       "      <th>0</th>\n",
       "      <td>1990</td>\n",
       "      <td>13530</td>\n",
       "    </tr>\n",
       "    <tr>\n",
       "      <th>1</th>\n",
       "      <td>1991</td>\n",
       "      <td>13578</td>\n",
       "    </tr>\n",
       "    <tr>\n",
       "      <th>2</th>\n",
       "      <td>1992</td>\n",
       "      <td>13915</td>\n",
       "    </tr>\n",
       "    <tr>\n",
       "      <th>3</th>\n",
       "      <td>1993</td>\n",
       "      <td>14356</td>\n",
       "    </tr>\n",
       "    <tr>\n",
       "      <th>4</th>\n",
       "      <td>1994</td>\n",
       "      <td>16290</td>\n",
       "    </tr>\n",
       "  </tbody>\n",
       "</table>\n",
       "</div>"
      ],
      "text/plain": [
       "   data_year  population\n",
       "0       1990       13530\n",
       "1       1991       13578\n",
       "2       1992       13915\n",
       "3       1993       14356\n",
       "4       1994       16290"
      ]
     },
     "execution_count": 3,
     "metadata": {},
     "output_type": "execute_result"
    }
   ],
   "source": [
    "df_population = pd.read_csv(\"population_cedar_city.csv\").rename(columns={'date':'data_year', 'Cedar City Count_Person':'population'})\n",
    "df_population.head()"
   ]
  },
  {
   "cell_type": "markdown",
   "id": "f1024ce7",
   "metadata": {},
   "source": [
    "### Crime Rate"
   ]
  },
  {
   "cell_type": "code",
   "execution_count": 4,
   "id": "9e2ac5a8",
   "metadata": {},
   "outputs": [
    {
     "data": {
      "text/html": [
       "<div>\n",
       "<style scoped>\n",
       "    .dataframe tbody tr th:only-of-type {\n",
       "        vertical-align: middle;\n",
       "    }\n",
       "\n",
       "    .dataframe tbody tr th {\n",
       "        vertical-align: top;\n",
       "    }\n",
       "\n",
       "    .dataframe thead th {\n",
       "        text-align: right;\n",
       "    }\n",
       "</style>\n",
       "<table border=\"1\" class=\"dataframe\">\n",
       "  <thead>\n",
       "    <tr style=\"text-align: right;\">\n",
       "      <th></th>\n",
       "      <th>data_year</th>\n",
       "      <th>offense_count</th>\n",
       "      <th>population</th>\n",
       "      <th>crime_rate</th>\n",
       "    </tr>\n",
       "  </thead>\n",
       "  <tbody>\n",
       "    <tr>\n",
       "      <th>0</th>\n",
       "      <td>2000</td>\n",
       "      <td>44</td>\n",
       "      <td>20809</td>\n",
       "      <td>0.002114</td>\n",
       "    </tr>\n",
       "    <tr>\n",
       "      <th>1</th>\n",
       "      <td>2001</td>\n",
       "      <td>39</td>\n",
       "      <td>21268</td>\n",
       "      <td>0.001834</td>\n",
       "    </tr>\n",
       "    <tr>\n",
       "      <th>2</th>\n",
       "      <td>2002</td>\n",
       "      <td>33</td>\n",
       "      <td>21852</td>\n",
       "      <td>0.001510</td>\n",
       "    </tr>\n",
       "    <tr>\n",
       "      <th>3</th>\n",
       "      <td>2003</td>\n",
       "      <td>42</td>\n",
       "      <td>22303</td>\n",
       "      <td>0.001883</td>\n",
       "    </tr>\n",
       "    <tr>\n",
       "      <th>4</th>\n",
       "      <td>2004</td>\n",
       "      <td>35</td>\n",
       "      <td>22940</td>\n",
       "      <td>0.001526</td>\n",
       "    </tr>\n",
       "  </tbody>\n",
       "</table>\n",
       "</div>"
      ],
      "text/plain": [
       "   data_year  offense_count  population  crime_rate\n",
       "0       2000             44       20809    0.002114\n",
       "1       2001             39       21268    0.001834\n",
       "2       2002             33       21852    0.001510\n",
       "3       2003             42       22303    0.001883\n",
       "4       2004             35       22940    0.001526"
      ]
     },
     "execution_count": 4,
     "metadata": {},
     "output_type": "execute_result"
    }
   ],
   "source": [
    "df_crime_rate = pd.merge(df_crime_year, df_population, on='data_year')\n",
    "df_crime_rate['crime_rate'] = df_crime_rate['offense_count'] / df_crime_rate['population']\n",
    "df_crime_rate.head()"
   ]
  },
  {
   "cell_type": "markdown",
   "id": "7b5609eb",
   "metadata": {},
   "source": [
    "### Smoke Estimator"
   ]
  },
  {
   "cell_type": "code",
   "execution_count": 5,
   "id": "00afbff5",
   "metadata": {},
   "outputs": [
    {
     "data": {
      "text/html": [
       "<div>\n",
       "<style scoped>\n",
       "    .dataframe tbody tr th:only-of-type {\n",
       "        vertical-align: middle;\n",
       "    }\n",
       "\n",
       "    .dataframe tbody tr th {\n",
       "        vertical-align: top;\n",
       "    }\n",
       "\n",
       "    .dataframe thead th {\n",
       "        text-align: right;\n",
       "    }\n",
       "</style>\n",
       "<table border=\"1\" class=\"dataframe\">\n",
       "  <thead>\n",
       "    <tr style=\"text-align: right;\">\n",
       "      <th></th>\n",
       "      <th>Fire_Year</th>\n",
       "      <th>Scaled_Smoke_Estimate</th>\n",
       "    </tr>\n",
       "  </thead>\n",
       "  <tbody>\n",
       "    <tr>\n",
       "      <th>0</th>\n",
       "      <td>1964</td>\n",
       "      <td>19.520710</td>\n",
       "    </tr>\n",
       "    <tr>\n",
       "      <th>1</th>\n",
       "      <td>1965</td>\n",
       "      <td>25.564820</td>\n",
       "    </tr>\n",
       "    <tr>\n",
       "      <th>2</th>\n",
       "      <td>1966</td>\n",
       "      <td>29.598843</td>\n",
       "    </tr>\n",
       "    <tr>\n",
       "      <th>3</th>\n",
       "      <td>1967</td>\n",
       "      <td>17.157263</td>\n",
       "    </tr>\n",
       "    <tr>\n",
       "      <th>4</th>\n",
       "      <td>1968</td>\n",
       "      <td>15.765356</td>\n",
       "    </tr>\n",
       "  </tbody>\n",
       "</table>\n",
       "</div>"
      ],
      "text/plain": [
       "   Fire_Year  Scaled_Smoke_Estimate\n",
       "0       1964              19.520710\n",
       "1       1965              25.564820\n",
       "2       1966              29.598843\n",
       "3       1967              17.157263\n",
       "4       1968              15.765356"
      ]
     },
     "execution_count": 5,
     "metadata": {},
     "output_type": "execute_result"
    }
   ],
   "source": [
    "df_estimator = pd.read_csv(\"df_attributes_estimator.csv\")\n",
    "df_estimator = df_estimator[df_estimator['Scaled_Smoke_Estimate'] > 15]\n",
    "df_estimator_year = df_estimator.groupby('Fire_Year')['Scaled_Smoke_Estimate'].mean().reset_index()\n",
    "df_estimator_year.head()"
   ]
  },
  {
   "cell_type": "code",
   "execution_count": 6,
   "id": "11c34c00",
   "metadata": {},
   "outputs": [
    {
     "data": {
      "text/plain": [
       "dtype('int64')"
      ]
     },
     "execution_count": 6,
     "metadata": {},
     "output_type": "execute_result"
    }
   ],
   "source": [
    "df_estimator_year['Fire_Year'].dtype"
   ]
  },
  {
   "cell_type": "markdown",
   "id": "7bcb57e7",
   "metadata": {},
   "source": [
    "### AQI Data"
   ]
  },
  {
   "cell_type": "code",
   "execution_count": 7,
   "id": "9c657a64",
   "metadata": {},
   "outputs": [
    {
     "data": {
      "text/html": [
       "<div>\n",
       "<style scoped>\n",
       "    .dataframe tbody tr th:only-of-type {\n",
       "        vertical-align: middle;\n",
       "    }\n",
       "\n",
       "    .dataframe tbody tr th {\n",
       "        vertical-align: top;\n",
       "    }\n",
       "\n",
       "    .dataframe thead th {\n",
       "        text-align: right;\n",
       "    }\n",
       "</style>\n",
       "<table border=\"1\" class=\"dataframe\">\n",
       "  <thead>\n",
       "    <tr style=\"text-align: right;\">\n",
       "      <th></th>\n",
       "      <th>year</th>\n",
       "      <th>aqi</th>\n",
       "    </tr>\n",
       "  </thead>\n",
       "  <tbody>\n",
       "    <tr>\n",
       "      <th>0</th>\n",
       "      <td>1975</td>\n",
       "      <td>95.000000</td>\n",
       "    </tr>\n",
       "    <tr>\n",
       "      <th>1</th>\n",
       "      <td>1976</td>\n",
       "      <td>109.720339</td>\n",
       "    </tr>\n",
       "    <tr>\n",
       "      <th>2</th>\n",
       "      <td>1977</td>\n",
       "      <td>25.926773</td>\n",
       "    </tr>\n",
       "    <tr>\n",
       "      <th>3</th>\n",
       "      <td>1978</td>\n",
       "      <td>34.164474</td>\n",
       "    </tr>\n",
       "    <tr>\n",
       "      <th>4</th>\n",
       "      <td>1979</td>\n",
       "      <td>4.282486</td>\n",
       "    </tr>\n",
       "  </tbody>\n",
       "</table>\n",
       "</div>"
      ],
      "text/plain": [
       "   year         aqi\n",
       "0  1975   95.000000\n",
       "1  1976  109.720339\n",
       "2  1977   25.926773\n",
       "3  1978   34.164474\n",
       "4  1979    4.282486"
      ]
     },
     "execution_count": 7,
     "metadata": {},
     "output_type": "execute_result"
    }
   ],
   "source": [
    "df_aqi = pd.read_csv('df_average_aqi.csv')\n",
    "df_aqi.head()"
   ]
  },
  {
   "cell_type": "code",
   "execution_count": 8,
   "id": "0e54c44b",
   "metadata": {},
   "outputs": [
    {
     "data": {
      "text/html": [
       "<div>\n",
       "<style scoped>\n",
       "    .dataframe tbody tr th:only-of-type {\n",
       "        vertical-align: middle;\n",
       "    }\n",
       "\n",
       "    .dataframe tbody tr th {\n",
       "        vertical-align: top;\n",
       "    }\n",
       "\n",
       "    .dataframe thead th {\n",
       "        text-align: right;\n",
       "    }\n",
       "</style>\n",
       "<table border=\"1\" class=\"dataframe\">\n",
       "  <thead>\n",
       "    <tr style=\"text-align: right;\">\n",
       "      <th></th>\n",
       "      <th>year</th>\n",
       "      <th>parameter</th>\n",
       "      <th>aqi</th>\n",
       "    </tr>\n",
       "  </thead>\n",
       "  <tbody>\n",
       "    <tr>\n",
       "      <th>0</th>\n",
       "      <td>1975</td>\n",
       "      <td>Sulfur dioxide</td>\n",
       "      <td>95.000000</td>\n",
       "    </tr>\n",
       "    <tr>\n",
       "      <th>1</th>\n",
       "      <td>1976</td>\n",
       "      <td>Sulfur dioxide</td>\n",
       "      <td>109.720339</td>\n",
       "    </tr>\n",
       "    <tr>\n",
       "      <th>2</th>\n",
       "      <td>1977</td>\n",
       "      <td>Nitrogen dioxide (NO2)</td>\n",
       "      <td>6.480769</td>\n",
       "    </tr>\n",
       "    <tr>\n",
       "      <th>3</th>\n",
       "      <td>1977</td>\n",
       "      <td>Sulfur dioxide</td>\n",
       "      <td>36.722420</td>\n",
       "    </tr>\n",
       "    <tr>\n",
       "      <th>4</th>\n",
       "      <td>1978</td>\n",
       "      <td>Nitrogen dioxide (NO2)</td>\n",
       "      <td>6.910448</td>\n",
       "    </tr>\n",
       "  </tbody>\n",
       "</table>\n",
       "</div>"
      ],
      "text/plain": [
       "   year               parameter         aqi\n",
       "0  1975          Sulfur dioxide   95.000000\n",
       "1  1976          Sulfur dioxide  109.720339\n",
       "2  1977  Nitrogen dioxide (NO2)    6.480769\n",
       "3  1977          Sulfur dioxide   36.722420\n",
       "4  1978  Nitrogen dioxide (NO2)    6.910448"
      ]
     },
     "execution_count": 8,
     "metadata": {},
     "output_type": "execute_result"
    }
   ],
   "source": [
    "df_param_aqi = pd.read_csv('df_average_param_aqi.csv')\n",
    "df_param_aqi.head()"
   ]
  },
  {
   "cell_type": "markdown",
   "id": "2ec57b45",
   "metadata": {},
   "source": [
    "## Visualization"
   ]
  },
  {
   "cell_type": "code",
   "execution_count": 10,
   "id": "51438547",
   "metadata": {},
   "outputs": [
    {
     "data": {
      "text/html": [
       "<div>\n",
       "<style scoped>\n",
       "    .dataframe tbody tr th:only-of-type {\n",
       "        vertical-align: middle;\n",
       "    }\n",
       "\n",
       "    .dataframe tbody tr th {\n",
       "        vertical-align: top;\n",
       "    }\n",
       "\n",
       "    .dataframe thead th {\n",
       "        text-align: right;\n",
       "    }\n",
       "</style>\n",
       "<table border=\"1\" class=\"dataframe\">\n",
       "  <thead>\n",
       "    <tr style=\"text-align: right;\">\n",
       "      <th></th>\n",
       "      <th>offense_count</th>\n",
       "      <th>population</th>\n",
       "      <th>crime_rate</th>\n",
       "      <th>Fire_Year</th>\n",
       "      <th>Scaled_Smoke_Estimate</th>\n",
       "      <th>year</th>\n",
       "      <th>parameter</th>\n",
       "      <th>aqi</th>\n",
       "    </tr>\n",
       "  </thead>\n",
       "  <tbody>\n",
       "    <tr>\n",
       "      <th>0</th>\n",
       "      <td>NaN</td>\n",
       "      <td>NaN</td>\n",
       "      <td>NaN</td>\n",
       "      <td>1964.0</td>\n",
       "      <td>19.520710</td>\n",
       "      <td>NaN</td>\n",
       "      <td>NaN</td>\n",
       "      <td>NaN</td>\n",
       "    </tr>\n",
       "    <tr>\n",
       "      <th>1</th>\n",
       "      <td>NaN</td>\n",
       "      <td>NaN</td>\n",
       "      <td>NaN</td>\n",
       "      <td>1965.0</td>\n",
       "      <td>25.564820</td>\n",
       "      <td>NaN</td>\n",
       "      <td>NaN</td>\n",
       "      <td>NaN</td>\n",
       "    </tr>\n",
       "    <tr>\n",
       "      <th>2</th>\n",
       "      <td>NaN</td>\n",
       "      <td>NaN</td>\n",
       "      <td>NaN</td>\n",
       "      <td>1966.0</td>\n",
       "      <td>29.598843</td>\n",
       "      <td>NaN</td>\n",
       "      <td>NaN</td>\n",
       "      <td>NaN</td>\n",
       "    </tr>\n",
       "    <tr>\n",
       "      <th>3</th>\n",
       "      <td>NaN</td>\n",
       "      <td>NaN</td>\n",
       "      <td>NaN</td>\n",
       "      <td>1967.0</td>\n",
       "      <td>17.157263</td>\n",
       "      <td>NaN</td>\n",
       "      <td>NaN</td>\n",
       "      <td>NaN</td>\n",
       "    </tr>\n",
       "    <tr>\n",
       "      <th>4</th>\n",
       "      <td>NaN</td>\n",
       "      <td>NaN</td>\n",
       "      <td>NaN</td>\n",
       "      <td>1968.0</td>\n",
       "      <td>15.765356</td>\n",
       "      <td>NaN</td>\n",
       "      <td>NaN</td>\n",
       "      <td>NaN</td>\n",
       "    </tr>\n",
       "  </tbody>\n",
       "</table>\n",
       "</div>"
      ],
      "text/plain": [
       "   offense_count  population  crime_rate  Fire_Year  Scaled_Smoke_Estimate  \\\n",
       "0            NaN         NaN         NaN     1964.0              19.520710   \n",
       "1            NaN         NaN         NaN     1965.0              25.564820   \n",
       "2            NaN         NaN         NaN     1966.0              29.598843   \n",
       "3            NaN         NaN         NaN     1967.0              17.157263   \n",
       "4            NaN         NaN         NaN     1968.0              15.765356   \n",
       "\n",
       "   year parameter  aqi  \n",
       "0   NaN       NaN  NaN  \n",
       "1   NaN       NaN  NaN  \n",
       "2   NaN       NaN  NaN  \n",
       "3   NaN       NaN  NaN  \n",
       "4   NaN       NaN  NaN  "
      ]
     },
     "execution_count": 10,
     "metadata": {},
     "output_type": "execute_result"
    }
   ],
   "source": [
    "df_param_plot = pd.merge(df_crime_rate, df_estimator_year, \n",
    "                   how=\"outer\",\n",
    "                   left_on=\"data_year\", \n",
    "                   right_on=\"Fire_Year\")\n",
    "df_param_plot['Fire_Year'] = df_param_plot['Fire_Year'].fillna(df_param_plot['data_year'])\n",
    "df_param_plot = df_param_plot.sort_values(by=['Fire_Year']).drop(columns=['data_year'])\n",
    "df_param_plot = pd.merge(df_param_plot, df_param_aqi, how='left', left_on='Fire_Year', right_on='year')\n",
    "df_param_plot.head()"
   ]
  },
  {
   "cell_type": "code",
   "execution_count": 12,
   "id": "fdc405d6",
   "metadata": {
    "scrolled": true
   },
   "outputs": [
    {
     "data": {
      "text/html": [
       "<div>\n",
       "<style scoped>\n",
       "    .dataframe tbody tr th:only-of-type {\n",
       "        vertical-align: middle;\n",
       "    }\n",
       "\n",
       "    .dataframe tbody tr th {\n",
       "        vertical-align: top;\n",
       "    }\n",
       "\n",
       "    .dataframe thead th {\n",
       "        text-align: right;\n",
       "    }\n",
       "</style>\n",
       "<table border=\"1\" class=\"dataframe\">\n",
       "  <thead>\n",
       "    <tr style=\"text-align: right;\">\n",
       "      <th></th>\n",
       "      <th>offense_count</th>\n",
       "      <th>population</th>\n",
       "      <th>crime_rate</th>\n",
       "      <th>Scaled_Smoke_Estimate</th>\n",
       "      <th>year</th>\n",
       "      <th>parameter</th>\n",
       "      <th>aqi</th>\n",
       "    </tr>\n",
       "  </thead>\n",
       "  <tbody>\n",
       "    <tr>\n",
       "      <th>55</th>\n",
       "      <td>35.0</td>\n",
       "      <td>22940.0</td>\n",
       "      <td>0.001526</td>\n",
       "      <td>25.489111</td>\n",
       "      <td>2004.0</td>\n",
       "      <td>Ozone</td>\n",
       "      <td>63.018416</td>\n",
       "    </tr>\n",
       "    <tr>\n",
       "      <th>58</th>\n",
       "      <td>41.0</td>\n",
       "      <td>24821.0</td>\n",
       "      <td>0.001652</td>\n",
       "      <td>41.584099</td>\n",
       "      <td>2005.0</td>\n",
       "      <td>Ozone</td>\n",
       "      <td>67.517056</td>\n",
       "    </tr>\n",
       "    <tr>\n",
       "      <th>61</th>\n",
       "      <td>16.0</td>\n",
       "      <td>26626.0</td>\n",
       "      <td>0.000601</td>\n",
       "      <td>40.290522</td>\n",
       "      <td>2006.0</td>\n",
       "      <td>Ozone</td>\n",
       "      <td>61.774725</td>\n",
       "    </tr>\n",
       "    <tr>\n",
       "      <th>68</th>\n",
       "      <td>55.0</td>\n",
       "      <td>28611.0</td>\n",
       "      <td>0.001922</td>\n",
       "      <td>31.726681</td>\n",
       "      <td>2008.0</td>\n",
       "      <td>Ozone</td>\n",
       "      <td>58.447761</td>\n",
       "    </tr>\n",
       "    <tr>\n",
       "      <th>82</th>\n",
       "      <td>10.0</td>\n",
       "      <td>29154.0</td>\n",
       "      <td>0.000343</td>\n",
       "      <td>44.344453</td>\n",
       "      <td>2011.0</td>\n",
       "      <td>Ozone</td>\n",
       "      <td>57.742829</td>\n",
       "    </tr>\n",
       "  </tbody>\n",
       "</table>\n",
       "</div>"
      ],
      "text/plain": [
       "    offense_count  population  crime_rate  Scaled_Smoke_Estimate    year  \\\n",
       "55           35.0     22940.0    0.001526              25.489111  2004.0   \n",
       "58           41.0     24821.0    0.001652              41.584099  2005.0   \n",
       "61           16.0     26626.0    0.000601              40.290522  2006.0   \n",
       "68           55.0     28611.0    0.001922              31.726681  2008.0   \n",
       "82           10.0     29154.0    0.000343              44.344453  2011.0   \n",
       "\n",
       "   parameter        aqi  \n",
       "55     Ozone  63.018416  \n",
       "58     Ozone  67.517056  \n",
       "61     Ozone  61.774725  \n",
       "68     Ozone  58.447761  \n",
       "82     Ozone  57.742829  "
      ]
     },
     "execution_count": 12,
     "metadata": {},
     "output_type": "execute_result"
    }
   ],
   "source": [
    "df_param_model = df_param_plot.dropna().drop(columns=['Fire_Year'])\n",
    "df_param_model = df_param_model[df_param_model['parameter'].isin(['Ozone', 'PM2.5 - Local Conditions'])]\n",
    "df_param_model.head()"
   ]
  },
  {
   "cell_type": "code",
   "execution_count": 13,
   "id": "27e97002",
   "metadata": {
    "scrolled": true
   },
   "outputs": [
    {
     "data": {
      "text/html": [
       "<div>\n",
       "<style scoped>\n",
       "    .dataframe tbody tr th:only-of-type {\n",
       "        vertical-align: middle;\n",
       "    }\n",
       "\n",
       "    .dataframe tbody tr th {\n",
       "        vertical-align: top;\n",
       "    }\n",
       "\n",
       "    .dataframe thead th {\n",
       "        text-align: right;\n",
       "    }\n",
       "</style>\n",
       "<table border=\"1\" class=\"dataframe\">\n",
       "  <thead>\n",
       "    <tr style=\"text-align: right;\">\n",
       "      <th></th>\n",
       "      <th>year</th>\n",
       "      <th>offense_count_x</th>\n",
       "      <th>Scaled_Smoke_Estimate</th>\n",
       "      <th>Ozone_aqi</th>\n",
       "      <th>PM2.5 - Local Conditions_aqi</th>\n",
       "      <th>data_year</th>\n",
       "      <th>offense_count_y</th>\n",
       "      <th>population</th>\n",
       "      <th>crime_rate</th>\n",
       "    </tr>\n",
       "  </thead>\n",
       "  <tbody>\n",
       "    <tr>\n",
       "      <th>0</th>\n",
       "      <td>2004.0</td>\n",
       "      <td>35.0</td>\n",
       "      <td>25.489111</td>\n",
       "      <td>63.018416</td>\n",
       "      <td>NaN</td>\n",
       "      <td>2004</td>\n",
       "      <td>35</td>\n",
       "      <td>22940</td>\n",
       "      <td>0.001526</td>\n",
       "    </tr>\n",
       "    <tr>\n",
       "      <th>1</th>\n",
       "      <td>2005.0</td>\n",
       "      <td>41.0</td>\n",
       "      <td>41.584099</td>\n",
       "      <td>67.517056</td>\n",
       "      <td>NaN</td>\n",
       "      <td>2005</td>\n",
       "      <td>41</td>\n",
       "      <td>24821</td>\n",
       "      <td>0.001652</td>\n",
       "    </tr>\n",
       "    <tr>\n",
       "      <th>2</th>\n",
       "      <td>2006.0</td>\n",
       "      <td>16.0</td>\n",
       "      <td>40.290522</td>\n",
       "      <td>61.774725</td>\n",
       "      <td>NaN</td>\n",
       "      <td>2006</td>\n",
       "      <td>16</td>\n",
       "      <td>26626</td>\n",
       "      <td>0.000601</td>\n",
       "    </tr>\n",
       "    <tr>\n",
       "      <th>3</th>\n",
       "      <td>2008.0</td>\n",
       "      <td>55.0</td>\n",
       "      <td>31.726681</td>\n",
       "      <td>58.447761</td>\n",
       "      <td>NaN</td>\n",
       "      <td>2008</td>\n",
       "      <td>55</td>\n",
       "      <td>28611</td>\n",
       "      <td>0.001922</td>\n",
       "    </tr>\n",
       "    <tr>\n",
       "      <th>4</th>\n",
       "      <td>2011.0</td>\n",
       "      <td>10.0</td>\n",
       "      <td>44.344453</td>\n",
       "      <td>57.742829</td>\n",
       "      <td>22.916667</td>\n",
       "      <td>2011</td>\n",
       "      <td>10</td>\n",
       "      <td>29154</td>\n",
       "      <td>0.000343</td>\n",
       "    </tr>\n",
       "  </tbody>\n",
       "</table>\n",
       "</div>"
      ],
      "text/plain": [
       "     year  offense_count_x  Scaled_Smoke_Estimate  Ozone_aqi  \\\n",
       "0  2004.0             35.0              25.489111  63.018416   \n",
       "1  2005.0             41.0              41.584099  67.517056   \n",
       "2  2006.0             16.0              40.290522  61.774725   \n",
       "3  2008.0             55.0              31.726681  58.447761   \n",
       "4  2011.0             10.0              44.344453  57.742829   \n",
       "\n",
       "   PM2.5 - Local Conditions_aqi  data_year  offense_count_y  population  \\\n",
       "0                           NaN       2004               35       22940   \n",
       "1                           NaN       2005               41       24821   \n",
       "2                           NaN       2006               16       26626   \n",
       "3                           NaN       2008               55       28611   \n",
       "4                     22.916667       2011               10       29154   \n",
       "\n",
       "   crime_rate  \n",
       "0    0.001526  \n",
       "1    0.001652  \n",
       "2    0.000601  \n",
       "3    0.001922  \n",
       "4    0.000343  "
      ]
     },
     "execution_count": 13,
     "metadata": {},
     "output_type": "execute_result"
    }
   ],
   "source": [
    "pivot_df = df_param_model.pivot_table(index=['year', 'offense_count', 'Scaled_Smoke_Estimate'], columns='parameter', values='aqi')\n",
    "\n",
    "# Rename columns if desired\n",
    "pivot_df.columns = [f'{col}_aqi' for col in pivot_df.columns]\n",
    "\n",
    "# Reset index if necessary\n",
    "pivot_df = pivot_df.reset_index()\n",
    "\n",
    "pivot_df_all = pd.merge(pivot_df, df_crime_rate, left_on='year', right_on='data_year')\n",
    "pivot_df_all.head()"
   ]
  },
  {
   "cell_type": "code",
   "execution_count": 14,
   "id": "e6273c4a",
   "metadata": {},
   "outputs": [
    {
     "data": {
      "image/png": "[encoded data removed]",
      "text/plain": [
       "<Figure size 1500x600 with 1 Axes>"
      ]
     },
     "metadata": {},
     "output_type": "display_data"
    }
   ],
   "source": [
    "fig, ax1 = plt.subplots(figsize=(15, 6))\n",
    "x = pivot_df_all['data_year']\n",
    "y_smoke = pivot_df_all['Scaled_Smoke_Estimate']\n",
    "y_crime_rate = pivot_df_all['crime_rate'] * 10000\n",
    "y_ozone_aqi = pivot_df_all['Ozone_aqi']\n",
    "y_pm25_aqi = pivot_df_all['PM2.5 - Local Conditions_aqi']\n",
    "\n",
    "ax1.plot(x, y_smoke, 'b-', label='Smoke Estimate', marker='s')\n",
    "ax1.plot(x, y_crime_rate, 'r-', label='Crime Rate', marker='s')\n",
    "ax1.plot(x, y_ozone_aqi, 'g-', label='Ozone AQI', marker='o')\n",
    "ax1.plot(x, y_pm25_aqi, 'm-', label='PM2.5 AQI', marker='o')\n",
    "\n",
    "ax1.set_xlabel('Year')\n",
    "ax1.set_title('Smoke Estimate, Crime Rate, Ozone and PM2.5 AQI over Year')\n",
    "ax1.legend()\n",
    "\n",
    "plt.show()"
   ]
  },
  {
   "cell_type": "markdown",
   "id": "d41253dd",
   "metadata": {},
   "source": [
    "## Linear Model"
   ]
  },
  {
   "cell_type": "code",
   "execution_count": 20,
   "id": "3c19f154",
   "metadata": {},
   "outputs": [
    {
     "name": "stdout",
     "output_type": "stream",
     "text": [
      "Accuracy: -111.23 %\n",
      "Mean Squared Error: 3.596862132266053e-05\n",
      "R² Score: -18.012340571047492\n"
     ]
    }
   ],
   "source": [
    "# Preparing the data\n",
    "# Linear Model\n",
    "pivot_df_all_dropna = pivot_df_all.dropna()\n",
    "\n",
    "# X = pivot_df_all_dropna[['Scaled_Smoke_Estimate', 'Ozone_aqi', 'PM2.5 - Local Conditions_aqi', 'year']]\n",
    "X = pivot_df_all_dropna[['Scaled_Smoke_Estimate', 'Ozone_aqi', 'PM2.5 - Local Conditions_aqi']]\n",
    "y = pivot_df_all_dropna['crime_rate']\n",
    "\n",
    "# Splitting the data into training and testing sets\n",
    "X_train, X_test, y_train, y_test = train_test_split(X, y, test_size=0.2, random_state=0)\n",
    "\n",
    "# Creating the Linear Regression model\n",
    "model = LinearRegression()\n",
    "\n",
    "# Fit the model\n",
    "model.fit(X_train, y_train)\n",
    "\n",
    "# Make predictions\n",
    "y_pred = model.predict(X_test)\n",
    "\n",
    "# Evaluate the model\n",
    "sumvalue = np.sum(y_test)\n",
    "mape = np.sum(np.abs((y_test - y_pred))) / sumvalue*100\n",
    "acc = 100-mape\n",
    "print('Accuracy:', round(acc,2), '%')\n",
    "\n",
    "mse = mean_squared_error(y_test, y_pred)\n",
    "r2 = r2_score(y_test, y_pred)\n",
    "\n",
    "print(f\"Mean Squared Error: {mse}\")\n",
    "print(f\"R² Score: {r2}\")\n"
   ]
  },
  {
   "cell_type": "markdown",
   "id": "a1ee9c11",
   "metadata": {},
   "source": [
    "## Random Forest Model\n",
    "\n",
    "The following lag function produces lag for each variable in my dataset for forecasting."
   ]
  },
  {
   "cell_type": "code",
   "execution_count": 16,
   "id": "7bc50273",
   "metadata": {},
   "outputs": [],
   "source": [
    "def tabelLag(df, max_lag, min_lag=0, seperator=\"_\"):\n",
    "    values = []\n",
    "    for i in range(min_lag, max_lag+1):\n",
    "        values.append(df.shift(i).copy())\n",
    "        values[-1].columns = [c + seperator + str(i) for c in df.columns]\n",
    "    return pd.concat(values, axis=1)"
   ]
  },
  {
   "cell_type": "code",
   "execution_count": 21,
   "id": "31d5d39d",
   "metadata": {
    "scrolled": true
   },
   "outputs": [
    {
     "data": {
      "text/html": [
       "<div>\n",
       "<style scoped>\n",
       "    .dataframe tbody tr th:only-of-type {\n",
       "        vertical-align: middle;\n",
       "    }\n",
       "\n",
       "    .dataframe tbody tr th {\n",
       "        vertical-align: top;\n",
       "    }\n",
       "\n",
       "    .dataframe thead th {\n",
       "        text-align: right;\n",
       "    }\n",
       "</style>\n",
       "<table border=\"1\" class=\"dataframe\">\n",
       "  <thead>\n",
       "    <tr style=\"text-align: right;\">\n",
       "      <th></th>\n",
       "      <th>Scaled_Smoke_Estimate_0</th>\n",
       "      <th>Ozone_aqi_0</th>\n",
       "      <th>PM2.5 - Local Conditions_aqi_0</th>\n",
       "      <th>Scaled_Smoke_Estimate_1</th>\n",
       "      <th>Ozone_aqi_1</th>\n",
       "      <th>PM2.5 - Local Conditions_aqi_1</th>\n",
       "    </tr>\n",
       "  </thead>\n",
       "  <tbody>\n",
       "    <tr>\n",
       "      <th>4</th>\n",
       "      <td>44.344453</td>\n",
       "      <td>57.742829</td>\n",
       "      <td>22.916667</td>\n",
       "      <td>NaN</td>\n",
       "      <td>NaN</td>\n",
       "      <td>NaN</td>\n",
       "    </tr>\n",
       "    <tr>\n",
       "      <th>5</th>\n",
       "      <td>44.784456</td>\n",
       "      <td>60.502947</td>\n",
       "      <td>31.962963</td>\n",
       "      <td>44.344453</td>\n",
       "      <td>57.742829</td>\n",
       "      <td>22.916667</td>\n",
       "    </tr>\n",
       "    <tr>\n",
       "      <th>6</th>\n",
       "      <td>38.994950</td>\n",
       "      <td>53.236413</td>\n",
       "      <td>27.048387</td>\n",
       "      <td>44.784456</td>\n",
       "      <td>60.502947</td>\n",
       "      <td>31.962963</td>\n",
       "    </tr>\n",
       "    <tr>\n",
       "      <th>7</th>\n",
       "      <td>36.321152</td>\n",
       "      <td>51.194624</td>\n",
       "      <td>19.215686</td>\n",
       "      <td>38.994950</td>\n",
       "      <td>53.236413</td>\n",
       "      <td>27.048387</td>\n",
       "    </tr>\n",
       "    <tr>\n",
       "      <th>8</th>\n",
       "      <td>32.521391</td>\n",
       "      <td>48.753623</td>\n",
       "      <td>19.790393</td>\n",
       "      <td>36.321152</td>\n",
       "      <td>51.194624</td>\n",
       "      <td>19.215686</td>\n",
       "    </tr>\n",
       "  </tbody>\n",
       "</table>\n",
       "</div>"
      ],
      "text/plain": [
       "   Scaled_Smoke_Estimate_0  Ozone_aqi_0  PM2.5 - Local Conditions_aqi_0  \\\n",
       "4                44.344453    57.742829                       22.916667   \n",
       "5                44.784456    60.502947                       31.962963   \n",
       "6                38.994950    53.236413                       27.048387   \n",
       "7                36.321152    51.194624                       19.215686   \n",
       "8                32.521391    48.753623                       19.790393   \n",
       "\n",
       "   Scaled_Smoke_Estimate_1  Ozone_aqi_1  PM2.5 - Local Conditions_aqi_1  \n",
       "4                      NaN          NaN                             NaN  \n",
       "5                44.344453    57.742829                       22.916667  \n",
       "6                44.784456    60.502947                       31.962963  \n",
       "7                38.994950    53.236413                       27.048387  \n",
       "8                36.321152    51.194624                       19.215686  "
      ]
     },
     "execution_count": 21,
     "metadata": {},
     "output_type": "execute_result"
    }
   ],
   "source": [
    "X_lag = tabelLag(X[['Scaled_Smoke_Estimate', 'Ozone_aqi', 'PM2.5 - Local Conditions_aqi']], 1)\n",
    "X_lag.head()"
   ]
  },
  {
   "cell_type": "markdown",
   "id": "77dbede3",
   "metadata": {},
   "source": [
    "Since the data is time series, it would be better to split the train and test set by time. The following code takes the most recent 4 years as test set and use the remaining data as train set."
   ]
  },
  {
   "cell_type": "code",
   "execution_count": 18,
   "id": "238c3c47",
   "metadata": {},
   "outputs": [],
   "source": [
    "test_length = 4\n",
    "end_point = len(X)\n",
    "x = end_point - test_length\n",
    "X_train = X_lag[1:].loc[:x-1, :]\n",
    "X_test = X_lag[1:].loc[x:, :]\n",
    "y_train = y[1:].loc[:x-1]\n",
    "y_test = y[1:].loc[x:]\n",
    "\n",
    "rf1 = RandomForestRegressor().fit(X_train, y_train)\n",
    "y_pred = rf1.predict(X_test)"
   ]
  },
  {
   "cell_type": "code",
   "execution_count": 19,
   "id": "ef6aecf4",
   "metadata": {},
   "outputs": [
    {
     "name": "stdout",
     "output_type": "stream",
     "text": [
      "Accuracy: 14.78 %.\n",
      "Mean Squared Error: 0.0001099012075736458\n",
      "R² Score: -0.1726086992956033\n"
     ]
    }
   ],
   "source": [
    "sumvalue = np.sum(y_test)\n",
    "mape = np.sum(np.abs((y_test - y_pred))) / sumvalue*100\n",
    "acc = 100-mape\n",
    "print('Accuracy:', round(acc,2), '%.')\n",
    "\n",
    "# Evaluate the model\n",
    "mse = mean_squared_error(y_test, y_pred)\n",
    "print(f\"Mean Squared Error: {mse}\")\n",
    "r2 = r2_score(y_test, y_pred)\n",
    "print(f\"R² Score: {r2}\")"
   ]
  }
 ],
 "metadata": {
  "kernelspec": {
   "display_name": "Python 3 (ipykernel)",
   "language": "python",
   "name": "python3"
  },
  "language_info": {
   "codemirror_mode": {
    "name": "ipython",
    "version": 3
   },
   "file_extension": ".py",
   "mimetype": "text/x-python",
   "name": "python",
   "nbconvert_exporter": "python",
   "pygments_lexer": "ipython3",
   "version": "3.9.13"
  }
 },
 "nbformat": 4,
 "nbformat_minor": 5
}
